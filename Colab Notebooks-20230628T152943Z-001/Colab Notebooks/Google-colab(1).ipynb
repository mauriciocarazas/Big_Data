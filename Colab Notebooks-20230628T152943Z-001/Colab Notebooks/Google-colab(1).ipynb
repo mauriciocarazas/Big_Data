{
  "cells": [
    {
      "cell_type": "markdown",
      "metadata": {
        "id": "fdb_tnyrKpzN"
      },
      "source": [
        "**Examen Fase II - Curso práctico Bioinformática**\n",
        "\n",
        "*1. Recuerde cambiar el entorno de ejecución a un entorno de GPU (Runtime menu > Change Runtime Type > choose GPU)*\n",
        "\n",
        "*2. Lea con calma el enunciado*\n",
        "\n",
        "*3. Suerte*"
      ]
    },
    {
      "cell_type": "code",
      "execution_count": null,
      "metadata": {
        "id": "e4XRuMXzbR2k"
      },
      "outputs": [],
      "source": [
        "from google.colab import drive\n",
        "drive.mount('/content/drive')"
      ]
    },
    {
      "cell_type": "code",
      "execution_count": null,
      "metadata": {
        "id": "Q2OlyApN_gWm"
      },
      "outputs": [],
      "source": [
        "!pip install cmake --upgrade"
      ]
    },
    {
      "cell_type": "code",
      "execution_count": null,
      "metadata": {
        "id": "i4LublKW-ZRS"
      },
      "outputs": [],
      "source": [
        "%%bash\n",
        "wget ftp://ftp.gromacs.org/gromacs/gromacs-2021.tar.gz\n",
        "tar xfz gromacs-2021.tar.gz\n",
        "cd /content/gromacs-2021\n",
        "mkdir /content/gromacs-2021/build\n",
        "cd /content/gromacs-2021/build\n",
        "cmake .. -DGMX_BUILD_OWN_FFTW=ON -DREGRESSIONTEST_DOWNLOAD=ON -DGMX_GPU=CUDA"
      ]
    },
    {
      "cell_type": "code",
      "source": [
        "%%bash\n",
        "cd /content/gromacs-2021/build\n",
        "make -j 2\n",
        "make install\n",
        "source /usr/local/gromacs/bin/GMXRC"
      ],
      "metadata": {
        "id": "YlI2gvbekBiA"
      },
      "execution_count": null,
      "outputs": []
    },
    {
      "cell_type": "code",
      "execution_count": null,
      "metadata": {
        "id": "B8_MjDYnhDwh"
      },
      "outputs": [],
      "source": [
        "%%bash\n",
        "source /usr/local/gromacs/bin/GMXRC\n",
        "cd /content/drive/MyDrive/Examen-FaseII/T1/\n",
        "gmx"
      ]
    },
    {
      "cell_type": "code",
      "execution_count": null,
      "metadata": {
        "id": "e5IhMlbghTwL"
      },
      "outputs": [],
      "source": [
        "!export GMXLIB=/usr/local/share/gromacs/top"
      ]
    },
    {
      "cell_type": "code",
      "source": [
        "%%bash\n",
        "source /usr/local/gromacs/bin/GMXRC\n",
        "cd /content/drive/MyDrive/Examen-FaseII/T1/\n",
        "gmx pdb2gmx -f protein.pdb -o protein.gro -p protein.top -i protein.itp -water spc -ignh -ff amber99sb-ildn\n",
        "gmx editconf -f protein.gro -o protein_newbox.gro -c -d 1.0 -bt cubic\n",
        "gmx solvate -cp protein_newbox.gro -o protein_solv.gro -p protein.top -cs spc216.gro\n",
        "gmx grompp -f genion.mdp -c protein_solv.gro -p protein.top -o ions.tpr -maxwarn 2\n",
        "echo \"SOL\" > options\n",
        "echo \" \" >> options\n",
        "gmx genion -s ions.tpr -o ions.gro -p protein.top -pname NA -nname CL -neutral < options"
      ],
      "metadata": {
        "id": "0sNG2nRVm9PA"
      },
      "execution_count": null,
      "outputs": []
    },
    {
      "cell_type": "code",
      "execution_count": null,
      "metadata": {
        "id": "IrWtn8CS15DQ"
      },
      "outputs": [],
      "source": [
        "%%bash\n",
        "source /usr/local/gromacs/bin/GMXRC\n",
        "cd /content/drive/MyDrive/Examen-FaseII/T1/\n",
        "gmx grompp -f min.mdp -c ions.gro -p protein.top -o min.tpr\n",
        "gmx mdrun -v -deffnm min \n",
        "gmx grompp -f nve.mdp -c min.gro -p protein.top -o nve.tpr -r min.gro\n",
        "gmx mdrun -v -deffnm nve -nb gpu -pin on -ntmpi 2 -ntomp 1\n",
        "gmx grompp -f nvt.mdp -c nve.gro -p protein.top -o nvt.tpr -r nve.gro\n",
        "gmx mdrun -v -deffnm nvt -nb gpu -pin on -ntmpi 2 -ntomp 1\n",
        "gmx grompp -f npt.mdp -c nvt.gro -p protein.top -o npt.tpr -r nvt.gro\n",
        "gmx mdrun -v -deffnm npt -nb gpu -pin on -ntmpi 2 -ntomp 1"
      ]
    },
    {
      "cell_type": "code",
      "source": [
        "%%bash\n",
        "source /usr/local/gromacs/bin/GMXRC\n",
        "cd /content/drive/MyDrive/Examen-FaseII/T1/\n",
        "gmx editconf -f min.gro -o min.pdb -label A\n",
        "gmx editconf -f nve.gro -o nve.pdb -label A\n",
        "gmx editconf -f nvt.gro -o nvt.pdb -label A\n",
        "gmx editconf -f npt.gro -o npt.pdb -label A"
      ],
      "metadata": {
        "id": "GWEzcVZAvosT"
      },
      "execution_count": null,
      "outputs": []
    },
    {
      "cell_type": "code",
      "source": [
        "%%bash\n",
        "source /usr/local/gromacs/bin/GMXRC\n",
        "cd /content/drive/MyDrive/Examen-FaseII/T1/\n",
        "#Calculamos la energia potencial de los archivos de salida \"min\" \n",
        "echo \"Potential\" > options\n",
        "echo \" \" >> options\n",
        "gmx energy -f min.edr -o min_potential.xvg -xvg none < options"
      ],
      "metadata": {
        "id": "8tYUv7djv7PK"
      },
      "execution_count": null,
      "outputs": []
    },
    {
      "cell_type": "code",
      "source": [
        "%%bash\n",
        "source /usr/local/gromacs/bin/GMXRC\n",
        "cd /content/drive/MyDrive/Examen-FaseII/T1/\n",
        "#Calculamos la temperatura de los archivos de salida \"nve\" \n",
        "echo \"Temperature\" > options\n",
        "echo \" \" >> options\n",
        "gmx energy -f nve.edr -o temperature_nve.xvg -xvg none < options"
      ],
      "metadata": {
        "id": "-f7cVclYwWXa"
      },
      "execution_count": null,
      "outputs": []
    },
    {
      "cell_type": "code",
      "source": [
        "%%bash\n",
        "source /usr/local/gromacs/bin/GMXRC\n",
        "cd /content/drive/MyDrive/Examen-FaseII/T1/\n",
        "#Calculamos la temperatura de los archivos de salida \"nve\" \n",
        "echo \"Temperature\" > options\n",
        "echo \" \" >> options\n",
        "gmx energy -f nvt.edr -o temperature_nvt.xvg -xvg none < options"
      ],
      "metadata": {
        "id": "GpBlpyPib_ud"
      },
      "execution_count": null,
      "outputs": []
    },
    {
      "cell_type": "code",
      "source": [
        "%%bash\n",
        "source /usr/local/gromacs/bin/GMXRC\n",
        "cd /content/drive/MyDrive/Examen-FaseII/T1/\n",
        "#Calculamos la temperatura de los archivos de salida \"nve\" \n",
        "echo \"Density\" > options\n",
        "echo \" \" >> options\n",
        "gmx energy -f npt.edr -o density.xvg -xvg none < options"
      ],
      "metadata": {
        "id": "xvxlFFXdcLBq"
      },
      "execution_count": null,
      "outputs": []
    },
    {
      "cell_type": "code",
      "source": [],
      "metadata": {
        "id": "XwEcVu9qRv7M"
      },
      "execution_count": null,
      "outputs": []
    }
  ],
  "metadata": {
    "accelerator": "GPU",
    "colab": {
      "provenance": [],
      "machine_shape": "hm",
      "gpuType": "T4",
      "gpuClass": "premium"
    },
    "gpuClass": "premium",
    "kernelspec": {
      "display_name": "Python 3",
      "name": "python3"
    }
  },
  "nbformat": 4,
  "nbformat_minor": 0
}